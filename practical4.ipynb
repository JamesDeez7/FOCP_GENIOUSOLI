{
 "cells": [
  {
   "cell_type": "code",
   "execution_count": 24,
   "id": "43e99045",
   "metadata": {},
   "outputs": [],
   "source": [
    "import math"
   ]
  },
  {
   "cell_type": "markdown",
   "id": "9e9e42d5",
   "metadata": {},
   "source": [
    "Write some code that imports the math module, then calculates and prints the\n",
    "square root of the number 2401. Use the sqrt() function provided by the math module."
   ]
  },
  {
   "cell_type": "code",
   "execution_count": 23,
   "id": "3e5432fe",
   "metadata": {},
   "outputs": [],
   "source": [
    "from math import sqrt\n",
    "root = sqrt(2401)"
   ]
  },
  {
   "cell_type": "code",
   "execution_count": 25,
   "id": "08257eb1",
   "metadata": {},
   "outputs": [
    {
     "data": {
      "text/plain": [
       "49.0"
      ]
     },
     "execution_count": 25,
     "metadata": {},
     "output_type": "execute_result"
    }
   ],
   "source": [
    "root"
   ]
  },
  {
   "cell_type": "markdown",
   "id": "c2421650",
   "metadata": {},
   "source": [
    "Write some code that imports only the log2() function from the math module, then\n",
    "call this function to calculate the log base 2 value of 1024. Print the result to the screen."
   ]
  },
  {
   "cell_type": "code",
   "execution_count": 26,
   "id": "ddcd9066",
   "metadata": {},
   "outputs": [
    {
     "data": {
      "text/plain": [
       "10.0"
      ]
     },
     "execution_count": 26,
     "metadata": {},
     "output_type": "execute_result"
    }
   ],
   "source": [
    "from math import log2\n",
    "log = log2(1024)\n",
    "log"
   ]
  },
  {
   "cell_type": "markdown",
   "id": "52676197",
   "metadata": {},
   "source": [
    "Input the above function definition. Once that is done make several calls to the\n",
    "function passing different argument values for testing."
   ]
  },
  {
   "cell_type": "code",
   "execution_count": 2,
   "id": "a419dbca",
   "metadata": {
    "scrolled": true
   },
   "outputs": [
    {
     "name": "stdout",
     "output_type": "stream",
     "text": [
      "Hello\n",
      "Hello\n"
     ]
    }
   ],
   "source": [
    "def displayTwice(msg):\n",
    "    print(msg)\n",
    "    print(msg)\n",
    "displayTwice(\"Hello\")"
   ]
  },
  {
   "cell_type": "code",
   "execution_count": 3,
   "id": "c55e17e3",
   "metadata": {},
   "outputs": [
    {
     "name": "stdout",
     "output_type": "stream",
     "text": [
      "Fancy meeting you here\n",
      "Fancy meeting you here\n"
     ]
    }
   ],
   "source": [
    "displayTwice(\"Fancy meeting you here\")"
   ]
  },
  {
   "cell_type": "markdown",
   "id": "8a2b3c92",
   "metadata": {},
   "source": [
    "Re-Input the above function definition, but this time add a docstring that includes a\n",
    "description of the function’s purpose. Once that is done enter a command such as\n",
    "help(displayTwice) and see what it displays."
   ]
  },
  {
   "cell_type": "code",
   "execution_count": 5,
   "id": "fb289b0f",
   "metadata": {},
   "outputs": [
    {
     "name": "stdout",
     "output_type": "stream",
     "text": [
      "Help on function displayTwice in module __main__:\n",
      "\n",
      "displayTwice(msg)\n",
      "    This will display the function argument twice.\n",
      "\n"
     ]
    }
   ],
   "source": [
    "def displayTwice(msg):\n",
    "    \"\"\"This will display the function argument twice.\"\"\"\n",
    "    print(msg)\n",
    "    print(msg)\n",
    "help(displayTwice)"
   ]
  },
  {
   "cell_type": "markdown",
   "id": "13052c3f",
   "metadata": {},
   "source": [
    "Input the above function definition. Once that is done make several calls to the\n",
    "function passing different argument values and displaying the returned value."
   ]
  },
  {
   "cell_type": "code",
   "execution_count": 6,
   "id": "55a1cb9d",
   "metadata": {},
   "outputs": [],
   "source": [
    "def findMax(a,b):\n",
    "    \"\"\"Finds the maximum of two values.\"\"\"\n",
    "    if ( a > b ):\n",
    "        max = a\n",
    "    else:\n",
    "        max = b\n",
    "    return max"
   ]
  },
  {
   "cell_type": "code",
   "execution_count": 8,
   "id": "9de5bf72",
   "metadata": {},
   "outputs": [
    {
     "data": {
      "text/plain": [
       "8"
      ]
     },
     "execution_count": 8,
     "metadata": {},
     "output_type": "execute_result"
    }
   ],
   "source": [
    "findMax(5,8)"
   ]
  },
  {
   "cell_type": "markdown",
   "id": "1c04aa65",
   "metadata": {},
   "source": [
    "Define a function that takes two numeric values, multiplies them together then returns the result. If the function is called with only a single argument however, then the value should be multiplied by itself. Once the function is defined, call it several times and display the returned values for testing purposes."
   ]
  },
  {
   "cell_type": "code",
   "execution_count": 10,
   "id": "89a3562d",
   "metadata": {},
   "outputs": [
    {
     "name": "stdout",
     "output_type": "stream",
     "text": [
      "4\n",
      "3\n",
      "56\n"
     ]
    }
   ],
   "source": [
    "def multiply_numbers(num1, num2=None):\n",
    "    if num2 is None:\n",
    "        num2 = num1\n",
    "    return num1 * num2\n",
    "\n",
    "print(multiply_numbers(2)) \n",
    "print(multiply_numbers(3, 1)) \n",
    "print(multiply_numbers(8, 7))     "
   ]
  },
  {
   "cell_type": "markdown",
   "id": "1f12e2ec",
   "metadata": {},
   "source": [
    "Enter the example function shown above, then try calling it using the keyword arguments in several different orders."
   ]
  },
  {
   "cell_type": "code",
   "execution_count": 12,
   "id": "cee7a523",
   "metadata": {
    "scrolled": true
   },
   "outputs": [
    {
     "name": "stdout",
     "output_type": "stream",
     "text": [
      "x is 1 \n",
      "y is 2 \n",
      "z is 3\n",
      "x is 2 \n",
      "y is 3 \n",
      "z is 4\n"
     ]
    }
   ],
   "source": [
    "def someFunc(x, y, z):\n",
    "    print(\"x is\", x, \"\\ny is\", y, \"\\nz is\", z)\n",
    "\n",
    "someFunc(1,2,3)\n",
    "someFunc(y=3, z=4, x=2)"
   ]
  },
  {
   "cell_type": "code",
   "execution_count": 14,
   "id": "e18d63f1",
   "metadata": {
    "scrolled": true
   },
   "outputs": [
    {
     "name": "stdout",
     "output_type": "stream",
     "text": [
      "x is 1 \n",
      "y is 4 \n",
      "z is 9\n"
     ]
    }
   ],
   "source": [
    "someFunc(1, z=9, y=4)"
   ]
  },
  {
   "cell_type": "markdown",
   "id": "070e9abd",
   "metadata": {},
   "source": [
    "The built-in print() function supports a keyword argument called sep. This is used to decide what character to display between each of the provided positional parameters. Write some code that makes several calls to the print() function while setting the sep argument to values other than a space (which is the default)."
   ]
  },
  {
   "cell_type": "code",
   "execution_count": 17,
   "id": "7b9e8347",
   "metadata": {
    "scrolled": true
   },
   "outputs": [
    {
     "name": "stdout",
     "output_type": "stream",
     "text": [
      "Genious, Oli\n",
      "Genious*Oli\n",
      "Genious**Oli\n",
      "Genious|Oli\n"
     ]
    }
   ],
   "source": [
    "print(\"Genious\", \"Oli\", sep=\", \")\n",
    "print(\"Genious\", \"Oli\", sep=\"*\")\n",
    "print(\"Genious\", \"Oli\", sep=\"**\")\n",
    "print(\"Genious\", \"Oli\", sep=\"|\")"
   ]
  },
  {
   "cell_type": "markdown",
   "id": "cd6f41c9",
   "metadata": {},
   "source": [
    "Enter the example function shown above, then try calling it several times, passing a different number of numeric arguments each time."
   ]
  },
  {
   "cell_type": "code",
   "execution_count": 19,
   "id": "b8b0cf1f",
   "metadata": {},
   "outputs": [
    {
     "data": {
      "text/plain": [
       "3.5"
      ]
     },
     "execution_count": 19,
     "metadata": {},
     "output_type": "execute_result"
    }
   ],
   "source": [
    "def calcAve(*numbers):\n",
    "    total = 0\n",
    "    for num in numbers:\n",
    "        total += num\n",
    "    return total/len(numbers)\n",
    "calcAve(3,4)"
   ]
  },
  {
   "cell_type": "code",
   "execution_count": 20,
   "id": "2708374b",
   "metadata": {},
   "outputs": [
    {
     "data": {
      "text/plain": [
       "2.5"
      ]
     },
     "execution_count": 20,
     "metadata": {},
     "output_type": "execute_result"
    }
   ],
   "source": [
    "calcAve(1,2,3,4)"
   ]
  },
  {
   "cell_type": "code",
   "execution_count": 21,
   "id": "773e6b47",
   "metadata": {},
   "outputs": [
    {
     "data": {
      "text/plain": [
       "3.2857142857142856"
      ]
     },
     "execution_count": 21,
     "metadata": {},
     "output_type": "execute_result"
    }
   ],
   "source": [
    "calcAve(6,9,4,2,0,1,1)"
   ]
  },
  {
   "cell_type": "markdown",
   "id": "d437899b",
   "metadata": {},
   "source": [
    "Enter the example lambda expression shown above, then find out the data type of the hypot variable using a call to the type() function. Notice the result."
   ]
  },
  {
   "cell_type": "code",
   "execution_count": 30,
   "id": "31f9a0c2",
   "metadata": {
    "scrolled": false
   },
   "outputs": [
    {
     "data": {
      "text/plain": [
       "10.63014581273465"
      ]
     },
     "execution_count": 30,
     "metadata": {},
     "output_type": "execute_result"
    }
   ],
   "source": [
    "hypot = lambda a,b : math.sqrt(a * a + b * b)\n",
    "hypot(8,7)"
   ]
  },
  {
   "cell_type": "markdown",
   "id": "74f030f3",
   "metadata": {},
   "source": [
    "Write a lambda expression that takes two formal parameters, hours and minutes. The expression should calculate and return the total number of equivalent seconds. Assign the expression to a variable called to_seconds, then call the function several times for testing."
   ]
  },
  {
   "cell_type": "code",
   "execution_count": 31,
   "id": "bba6bb92",
   "metadata": {},
   "outputs": [
    {
     "name": "stdout",
     "output_type": "stream",
     "text": [
      "7200\n",
      "2700\n",
      "12000\n"
     ]
    }
   ],
   "source": [
    "to_seconds = lambda hours, minutes: hours * 3600 + minutes * 60\n",
    "\n",
    "print(to_seconds(2, 0))       \n",
    "print(to_seconds(0, 45))      \n",
    "print(to_seconds(3, 20))    "
   ]
  },
  {
   "cell_type": "markdown",
   "id": "317ca976",
   "metadata": {},
   "source": [
    "Improve your previous lambda expression so that if only one argument is passed within a call, then the number of minutes defaults to 0, as detailed below:"
   ]
  },
  {
   "cell_type": "code",
   "execution_count": 32,
   "id": "25a8f32a",
   "metadata": {},
   "outputs": [
    {
     "name": "stdout",
     "output_type": "stream",
     "text": [
      "12000\n",
      "7200\n",
      "25200\n"
     ]
    }
   ],
   "source": [
    "to_seconds = lambda hours, minutes=0: hours * 3600 + minutes * 60\n",
    "\n",
    "print(to_seconds(3, 20))      \n",
    "print(to_seconds(2))          \n",
    "print(to_seconds(7))          "
   ]
  },
  {
   "cell_type": "code",
   "execution_count": null,
   "id": "72099c02",
   "metadata": {},
   "outputs": [],
   "source": []
  }
 ],
 "metadata": {
  "kernelspec": {
   "display_name": "Python 3 (ipykernel)",
   "language": "python",
   "name": "python3"
  },
  "language_info": {
   "codemirror_mode": {
    "name": "ipython",
    "version": 3
   },
   "file_extension": ".py",
   "mimetype": "text/x-python",
   "name": "python",
   "nbconvert_exporter": "python",
   "pygments_lexer": "ipython3",
   "version": "3.10.9"
  },
  "vscode": {
   "interpreter": {
    "hash": "aee8b7b246df8f9039afb4144a1f6fd8d2ca17a180786b69acc140d282b71a49"
   }
  }
 },
 "nbformat": 4,
 "nbformat_minor": 5
}
